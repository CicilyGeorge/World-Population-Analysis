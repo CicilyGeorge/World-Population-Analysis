{
 "cells": [
  {
   "cell_type": "code",
   "execution_count": 20,
   "metadata": {
    "ExecuteTime": {
     "end_time": "2021-01-13T08:30:58.330601Z",
     "start_time": "2021-01-13T08:30:58.312612Z"
    }
   },
   "outputs": [],
   "source": [
    "import pandas as pd\n",
    "import pymongo\n",
    "import numpy as np\n",
    "from geopy.geocoders import Nominatim\n",
    "\n",
    "pd.set_option(\"display.max_rows\", 300)"
   ]
  },
  {
   "cell_type": "markdown",
   "metadata": {},
   "source": [
    "### Extract and Clean Data"
   ]
  },
  {
   "cell_type": "markdown",
   "metadata": {},
   "source": [
    "#### Population of Cities"
   ]
  },
  {
   "cell_type": "code",
   "execution_count": 21,
   "metadata": {
    "ExecuteTime": {
     "end_time": "2021-01-13T08:30:59.127114Z",
     "start_time": "2021-01-13T08:30:58.332601Z"
    }
   },
   "outputs": [
    {
     "output_type": "execute_result",
     "data": {
      "text/plain": [
       "   Rank         City Country      2020      2019  Change\n",
       "0     1        Tokyo   Japan  37393128  37435192  -0.11%\n",
       "1     2        Delhi   India  30290936  29399140   3.03%\n",
       "2     3     Shanghai   China  27058480  26317104   2.82%\n",
       "3     4    Sao Paulo  Brazil  22043028  21846508   0.90%\n",
       "4     5  Mexico City  Mexico  21782378  21671908   0.51%"
      ],
      "text/html": "<div>\n<style scoped>\n    .dataframe tbody tr th:only-of-type {\n        vertical-align: middle;\n    }\n\n    .dataframe tbody tr th {\n        vertical-align: top;\n    }\n\n    .dataframe thead th {\n        text-align: right;\n    }\n</style>\n<table border=\"1\" class=\"dataframe\">\n  <thead>\n    <tr style=\"text-align: right;\">\n      <th></th>\n      <th>Rank</th>\n      <th>City</th>\n      <th>Country</th>\n      <th>2020</th>\n      <th>2019</th>\n      <th>Change</th>\n    </tr>\n  </thead>\n  <tbody>\n    <tr>\n      <th>0</th>\n      <td>1</td>\n      <td>Tokyo</td>\n      <td>Japan</td>\n      <td>37393128</td>\n      <td>37435192</td>\n      <td>-0.11%</td>\n    </tr>\n    <tr>\n      <th>1</th>\n      <td>2</td>\n      <td>Delhi</td>\n      <td>India</td>\n      <td>30290936</td>\n      <td>29399140</td>\n      <td>3.03%</td>\n    </tr>\n    <tr>\n      <th>2</th>\n      <td>3</td>\n      <td>Shanghai</td>\n      <td>China</td>\n      <td>27058480</td>\n      <td>26317104</td>\n      <td>2.82%</td>\n    </tr>\n    <tr>\n      <th>3</th>\n      <td>4</td>\n      <td>Sao Paulo</td>\n      <td>Brazil</td>\n      <td>22043028</td>\n      <td>21846508</td>\n      <td>0.90%</td>\n    </tr>\n    <tr>\n      <th>4</th>\n      <td>5</td>\n      <td>Mexico City</td>\n      <td>Mexico</td>\n      <td>21782378</td>\n      <td>21671908</td>\n      <td>0.51%</td>\n    </tr>\n  </tbody>\n</table>\n</div>"
     },
     "metadata": {},
     "execution_count": 21
    }
   ],
   "source": [
    "# url to scrape for the city population\n",
    "cities_url =\"https://worldpopulationreview.com/world-cities\"\n",
    "# Use pandas `read_html` to parse the url\n",
    "df_cityPop = pd.read_html(cities_url, header=0)[0]\n",
    "# rename the columns\n",
    "df_cityPop.rename(columns={'Name':'City', \n",
    "                           '2020 Population':'2020',\n",
    "                           '2019 Population':'2019'\n",
    "                          },inplace=True)\n",
    "# Replace null values with 0\n",
    "df_cityPop.fillna(0,inplace = True)\n",
    "#  converting column 2019 from float to int\n",
    "df_cityPop['2019'] = df_cityPop['2019'].apply(np.int32)\n",
    "\n",
    "df_cityPop.head()"
   ]
  },
  {
   "cell_type": "code",
   "execution_count": 22,
   "metadata": {},
   "outputs": [
    {
     "output_type": "execute_result",
     "data": {
      "text/plain": [
       "          City Country   Latitude   Longitude\n",
       "0        Tokyo   Japan  35.682839  139.759455\n",
       "1        Delhi   India  28.651718   77.221939\n",
       "2     Shanghai   China  31.232276  121.469207\n",
       "3    Sao Paulo  Brazil -23.550651  -46.633382\n",
       "4  Mexico City  Mexico  19.432630  -99.133178"
      ],
      "text/html": "<div>\n<style scoped>\n    .dataframe tbody tr th:only-of-type {\n        vertical-align: middle;\n    }\n\n    .dataframe tbody tr th {\n        vertical-align: top;\n    }\n\n    .dataframe thead th {\n        text-align: right;\n    }\n</style>\n<table border=\"1\" class=\"dataframe\">\n  <thead>\n    <tr style=\"text-align: right;\">\n      <th></th>\n      <th>City</th>\n      <th>Country</th>\n      <th>Latitude</th>\n      <th>Longitude</th>\n    </tr>\n  </thead>\n  <tbody>\n    <tr>\n      <th>0</th>\n      <td>Tokyo</td>\n      <td>Japan</td>\n      <td>35.682839</td>\n      <td>139.759455</td>\n    </tr>\n    <tr>\n      <th>1</th>\n      <td>Delhi</td>\n      <td>India</td>\n      <td>28.651718</td>\n      <td>77.221939</td>\n    </tr>\n    <tr>\n      <th>2</th>\n      <td>Shanghai</td>\n      <td>China</td>\n      <td>31.232276</td>\n      <td>121.469207</td>\n    </tr>\n    <tr>\n      <th>3</th>\n      <td>Sao Paulo</td>\n      <td>Brazil</td>\n      <td>-23.550651</td>\n      <td>-46.633382</td>\n    </tr>\n    <tr>\n      <th>4</th>\n      <td>Mexico City</td>\n      <td>Mexico</td>\n      <td>19.432630</td>\n      <td>-99.133178</td>\n    </tr>\n  </tbody>\n</table>\n</div>"
     },
     "metadata": {},
     "execution_count": 22
    }
   ],
   "source": [
    "# Using geopy for coordinates of top 10 cities\n",
    "# creating a dataframe with coordinates\n",
    "cities = []\n",
    "# iterate through top 10 rows\n",
    "for row in df_cityPop.head(10).itertuples():\n",
    "    try:\n",
    "        geolocator = Nominatim(user_agent=\"population_analysis\")\n",
    "        city = row[2]\n",
    "        country = row[3]\n",
    "        loc = geolocator.geocode(city+','+ country)\n",
    "        \n",
    "        cities.append({\"City\": city,\n",
    "                    \"Country\": country,\n",
    "                    \"Latitude\": loc.latitude, \n",
    "                    \"Longitude\": loc.longitude}) \n",
    "    except:\n",
    "        print(\"City not found. Skipping...\") \n",
    "\n",
    "city_df = pd.DataFrame(cities)\n",
    "city_df.head()"
   ]
  },
  {
   "cell_type": "code",
   "execution_count": 23,
   "metadata": {},
   "outputs": [
    {
     "output_type": "execute_result",
     "data": {
      "text/plain": [
       "   Rank         City Country      2020      2019  Change   Latitude  \\\n",
       "0     1        Tokyo   Japan  37393128  37435192  -0.11%  35.682839   \n",
       "1     2        Delhi   India  30290936  29399140   3.03%  28.651718   \n",
       "2     3     Shanghai   China  27058480  26317104   2.82%  31.232276   \n",
       "3     4    Sao Paulo  Brazil  22043028  21846508   0.90% -23.550651   \n",
       "4     5  Mexico City  Mexico  21782378  21671908   0.51%  19.432630   \n",
       "\n",
       "    Longitude  \n",
       "0  139.759455  \n",
       "1   77.221939  \n",
       "2  121.469207  \n",
       "3  -46.633382  \n",
       "4  -99.133178  "
      ],
      "text/html": "<div>\n<style scoped>\n    .dataframe tbody tr th:only-of-type {\n        vertical-align: middle;\n    }\n\n    .dataframe tbody tr th {\n        vertical-align: top;\n    }\n\n    .dataframe thead th {\n        text-align: right;\n    }\n</style>\n<table border=\"1\" class=\"dataframe\">\n  <thead>\n    <tr style=\"text-align: right;\">\n      <th></th>\n      <th>Rank</th>\n      <th>City</th>\n      <th>Country</th>\n      <th>2020</th>\n      <th>2019</th>\n      <th>Change</th>\n      <th>Latitude</th>\n      <th>Longitude</th>\n    </tr>\n  </thead>\n  <tbody>\n    <tr>\n      <th>0</th>\n      <td>1</td>\n      <td>Tokyo</td>\n      <td>Japan</td>\n      <td>37393128</td>\n      <td>37435192</td>\n      <td>-0.11%</td>\n      <td>35.682839</td>\n      <td>139.759455</td>\n    </tr>\n    <tr>\n      <th>1</th>\n      <td>2</td>\n      <td>Delhi</td>\n      <td>India</td>\n      <td>30290936</td>\n      <td>29399140</td>\n      <td>3.03%</td>\n      <td>28.651718</td>\n      <td>77.221939</td>\n    </tr>\n    <tr>\n      <th>2</th>\n      <td>3</td>\n      <td>Shanghai</td>\n      <td>China</td>\n      <td>27058480</td>\n      <td>26317104</td>\n      <td>2.82%</td>\n      <td>31.232276</td>\n      <td>121.469207</td>\n    </tr>\n    <tr>\n      <th>3</th>\n      <td>4</td>\n      <td>Sao Paulo</td>\n      <td>Brazil</td>\n      <td>22043028</td>\n      <td>21846508</td>\n      <td>0.90%</td>\n      <td>-23.550651</td>\n      <td>-46.633382</td>\n    </tr>\n    <tr>\n      <th>4</th>\n      <td>5</td>\n      <td>Mexico City</td>\n      <td>Mexico</td>\n      <td>21782378</td>\n      <td>21671908</td>\n      <td>0.51%</td>\n      <td>19.432630</td>\n      <td>-99.133178</td>\n    </tr>\n  </tbody>\n</table>\n</div>"
     },
     "metadata": {},
     "execution_count": 23
    }
   ],
   "source": [
    "# merging city dataframes \n",
    "df_cityPop = df_cityPop.merge(city_df, on=[\"City\",\"Country\"], how=\"left\")\n",
    "df_cityPop.head()"
   ]
  },
  {
   "source": [
    "#### Scraping Country codes to merge datasets with"
   ],
   "cell_type": "markdown",
   "metadata": {}
  },
  {
   "cell_type": "code",
   "execution_count": 24,
   "metadata": {},
   "outputs": [
    {
     "output_type": "execute_result",
     "data": {
      "text/plain": [
       "  Country_Code_2 Country_Code\n",
       "0             AF          AFG\n",
       "1             AX          ALA\n",
       "2             AL          ALB\n",
       "3             DZ          DZA\n",
       "4             AS          ASM"
      ],
      "text/html": "<div>\n<style scoped>\n    .dataframe tbody tr th:only-of-type {\n        vertical-align: middle;\n    }\n\n    .dataframe tbody tr th {\n        vertical-align: top;\n    }\n\n    .dataframe thead th {\n        text-align: right;\n    }\n</style>\n<table border=\"1\" class=\"dataframe\">\n  <thead>\n    <tr style=\"text-align: right;\">\n      <th></th>\n      <th>Country_Code_2</th>\n      <th>Country_Code</th>\n    </tr>\n  </thead>\n  <tbody>\n    <tr>\n      <th>0</th>\n      <td>AF</td>\n      <td>AFG</td>\n    </tr>\n    <tr>\n      <th>1</th>\n      <td>AX</td>\n      <td>ALA</td>\n    </tr>\n    <tr>\n      <th>2</th>\n      <td>AL</td>\n      <td>ALB</td>\n    </tr>\n    <tr>\n      <th>3</th>\n      <td>DZ</td>\n      <td>DZA</td>\n    </tr>\n    <tr>\n      <th>4</th>\n      <td>AS</td>\n      <td>ASM</td>\n    </tr>\n  </tbody>\n</table>\n</div>"
     },
     "metadata": {},
     "execution_count": 24
    }
   ],
   "source": [
    "# url to scrape for ISO 3166 country codes Alpha-2 and Alpha-3 from www.iban.com\n",
    "country_code_url =\"https://www.iban.com/country-codes\"\n",
    "# Use panda's `read_html` to parse the url\n",
    "df_countryCode = pd.read_html(country_code_url, header=0)[0]\n",
    "# eliminating unnessasary data\n",
    "df_countryCode = df_countryCode.iloc[:,[1,2]]\n",
    "# rename the columns\n",
    "df_countryCode.rename(columns={'Alpha-2 code':'Country_Code_2',\n",
    "                               'Alpha-3 code':'Country_Code'\n",
    "                              },inplace=True)\n",
    "\n",
    "\n",
    "df_countryCode.head()"
   ]
  },
  {
   "cell_type": "markdown",
   "metadata": {},
   "source": [
    "#### Population of Countries"
   ]
  },
  {
   "cell_type": "code",
   "execution_count": 25,
   "metadata": {
    "ExecuteTime": {
     "end_time": "2021-01-13T08:30:59.597061Z",
     "start_time": "2021-01-13T08:30:59.567079Z"
    }
   },
   "outputs": [
    {
     "output_type": "execute_result",
     "data": {
      "text/plain": [
       "  Country_Code_2        Country        2050        2030        2020  \\\n",
       "0             CN          China  1402405170  1464340159  1439323776   \n",
       "1             IN          India  1639176033  1503642322  1380004385   \n",
       "2             US  United States   379419102   349641876   331002651   \n",
       "3             ID      Indonesia   330904664   299198430   273523615   \n",
       "4             PK       Pakistan   338013196   262958794   220892340   \n",
       "\n",
       "         1980       1970     area   Density  GrowthRate  WorldPercentage  rank  \n",
       "0  1000089235  827601394  9706961  148.2775      1.0039           0.1847     1  \n",
       "1   698952844  555189792  3287590  419.7617      1.0099           0.1770     2  \n",
       "2   229476354  209513341  9372610   35.3160      1.0059           0.0425     3  \n",
       "3   147447836  114793178  1904569  143.6144      1.0107           0.0351     4  \n",
       "4    78054343   58142060   881912  250.4698      1.0200           0.0283     5  "
      ],
      "text/html": "<div>\n<style scoped>\n    .dataframe tbody tr th:only-of-type {\n        vertical-align: middle;\n    }\n\n    .dataframe tbody tr th {\n        vertical-align: top;\n    }\n\n    .dataframe thead th {\n        text-align: right;\n    }\n</style>\n<table border=\"1\" class=\"dataframe\">\n  <thead>\n    <tr style=\"text-align: right;\">\n      <th></th>\n      <th>Country_Code_2</th>\n      <th>Country</th>\n      <th>2050</th>\n      <th>2030</th>\n      <th>2020</th>\n      <th>1980</th>\n      <th>1970</th>\n      <th>area</th>\n      <th>Density</th>\n      <th>GrowthRate</th>\n      <th>WorldPercentage</th>\n      <th>rank</th>\n    </tr>\n  </thead>\n  <tbody>\n    <tr>\n      <th>0</th>\n      <td>CN</td>\n      <td>China</td>\n      <td>1402405170</td>\n      <td>1464340159</td>\n      <td>1439323776</td>\n      <td>1000089235</td>\n      <td>827601394</td>\n      <td>9706961</td>\n      <td>148.2775</td>\n      <td>1.0039</td>\n      <td>0.1847</td>\n      <td>1</td>\n    </tr>\n    <tr>\n      <th>1</th>\n      <td>IN</td>\n      <td>India</td>\n      <td>1639176033</td>\n      <td>1503642322</td>\n      <td>1380004385</td>\n      <td>698952844</td>\n      <td>555189792</td>\n      <td>3287590</td>\n      <td>419.7617</td>\n      <td>1.0099</td>\n      <td>0.1770</td>\n      <td>2</td>\n    </tr>\n    <tr>\n      <th>2</th>\n      <td>US</td>\n      <td>United States</td>\n      <td>379419102</td>\n      <td>349641876</td>\n      <td>331002651</td>\n      <td>229476354</td>\n      <td>209513341</td>\n      <td>9372610</td>\n      <td>35.3160</td>\n      <td>1.0059</td>\n      <td>0.0425</td>\n      <td>3</td>\n    </tr>\n    <tr>\n      <th>3</th>\n      <td>ID</td>\n      <td>Indonesia</td>\n      <td>330904664</td>\n      <td>299198430</td>\n      <td>273523615</td>\n      <td>147447836</td>\n      <td>114793178</td>\n      <td>1904569</td>\n      <td>143.6144</td>\n      <td>1.0107</td>\n      <td>0.0351</td>\n      <td>4</td>\n    </tr>\n    <tr>\n      <th>4</th>\n      <td>PK</td>\n      <td>Pakistan</td>\n      <td>338013196</td>\n      <td>262958794</td>\n      <td>220892340</td>\n      <td>78054343</td>\n      <td>58142060</td>\n      <td>881912</td>\n      <td>250.4698</td>\n      <td>1.0200</td>\n      <td>0.0283</td>\n      <td>5</td>\n    </tr>\n  </tbody>\n</table>\n</div>"
     },
     "metadata": {},
     "execution_count": 25
    }
   ],
   "source": [
    "# read Countries population data from csv(source:https://worldpopulationreview.com) into dataframe\n",
    "df_countries = pd.read_csv('static/data/countriesData.csv')\n",
    "# rename the columns\n",
    "df_countries.rename(columns={'cca2':'Country_Code_2',\n",
    "                             'name':'Country',\n",
    "                             'pop2050':'2050',\n",
    "                             'pop2030':'2030',\n",
    "                             'pop2020':'2020',\n",
    "                             'pop1980':'1980',\n",
    "                             'pop1970':'1970'\n",
    "                            },inplace=True)\n",
    "\n",
    "# eliminating flag column and rerodering\n",
    "df_countries = df_countries.iloc[:,[0,1,4,5,2,10,11,12,13,14,15,16]]\n",
    "\n",
    "# Removing decimal point from data\n",
    "col_list = ['2050','2030','2020','1980','1970']\n",
    "# Loop through the columns\n",
    "for col in df_countries[col_list]:\n",
    "    # performing operations on columns other than Country column\n",
    "    if col not in [\"Country_Code_2\", \"Country\"]:\n",
    "        # correcting the decimal positions\n",
    "        df_countries[col] = (df_countries[col] * 1000).apply(np.int64)\n",
    "\n",
    "df_countries.head()"
   ]
  },
  {
   "cell_type": "code",
   "execution_count": 26,
   "metadata": {
    "ExecuteTime": {
     "end_time": "2021-01-13T08:30:59.737989Z",
     "start_time": "2021-01-13T08:30:59.599060Z"
    }
   },
   "outputs": [
    {
     "output_type": "execute_result",
     "data": {
      "text/plain": [
       "                   Country Country_Code      1990      2000      2015  \\\n",
       "212  Virgin Islands (U.S.)          VIR    103963    108642    107710   \n",
       "213     West Bank and Gaza          PSE   1978248   2922153   4270092   \n",
       "214            Yemen, Rep.          YEM  11709993  17409072  26497889   \n",
       "215                 Zambia          ZMB   8036845  10415944  15879361   \n",
       "216               Zimbabwe          ZWE  10432421  11881477  13814629   \n",
       "\n",
       "         2016      2017      2018      2019  \n",
       "212    107510    107268    106977    106631  \n",
       "213   4367088   4454805   4569087   4685306  \n",
       "214  27168210  27834821  28498687  29161922  \n",
       "215  16363507  16853688  17351822  17861030  \n",
       "216  14030390  14236745  14439018  14645468  "
      ],
      "text/html": "<div>\n<style scoped>\n    .dataframe tbody tr th:only-of-type {\n        vertical-align: middle;\n    }\n\n    .dataframe tbody tr th {\n        vertical-align: top;\n    }\n\n    .dataframe thead th {\n        text-align: right;\n    }\n</style>\n<table border=\"1\" class=\"dataframe\">\n  <thead>\n    <tr style=\"text-align: right;\">\n      <th></th>\n      <th>Country</th>\n      <th>Country_Code</th>\n      <th>1990</th>\n      <th>2000</th>\n      <th>2015</th>\n      <th>2016</th>\n      <th>2017</th>\n      <th>2018</th>\n      <th>2019</th>\n    </tr>\n  </thead>\n  <tbody>\n    <tr>\n      <th>212</th>\n      <td>Virgin Islands (U.S.)</td>\n      <td>VIR</td>\n      <td>103963</td>\n      <td>108642</td>\n      <td>107710</td>\n      <td>107510</td>\n      <td>107268</td>\n      <td>106977</td>\n      <td>106631</td>\n    </tr>\n    <tr>\n      <th>213</th>\n      <td>West Bank and Gaza</td>\n      <td>PSE</td>\n      <td>1978248</td>\n      <td>2922153</td>\n      <td>4270092</td>\n      <td>4367088</td>\n      <td>4454805</td>\n      <td>4569087</td>\n      <td>4685306</td>\n    </tr>\n    <tr>\n      <th>214</th>\n      <td>Yemen, Rep.</td>\n      <td>YEM</td>\n      <td>11709993</td>\n      <td>17409072</td>\n      <td>26497889</td>\n      <td>27168210</td>\n      <td>27834821</td>\n      <td>28498687</td>\n      <td>29161922</td>\n    </tr>\n    <tr>\n      <th>215</th>\n      <td>Zambia</td>\n      <td>ZMB</td>\n      <td>8036845</td>\n      <td>10415944</td>\n      <td>15879361</td>\n      <td>16363507</td>\n      <td>16853688</td>\n      <td>17351822</td>\n      <td>17861030</td>\n    </tr>\n    <tr>\n      <th>216</th>\n      <td>Zimbabwe</td>\n      <td>ZWE</td>\n      <td>10432421</td>\n      <td>11881477</td>\n      <td>13814629</td>\n      <td>14030390</td>\n      <td>14236745</td>\n      <td>14439018</td>\n      <td>14645468</td>\n    </tr>\n  </tbody>\n</table>\n</div>"
     },
     "metadata": {},
     "execution_count": 26
    }
   ],
   "source": [
    "# Another Dataset\n",
    "# Cleaning csv Population data from https://datacatalog.worldbank.org\n",
    "# reading csv's into dataframes\n",
    "df_population = pd.read_csv('static/data/population.csv')\n",
    "\n",
    "\n",
    "# Function to Clean each dataframes\n",
    "def clean_dataFrames(df, col_list):\n",
    "    # eliminating unnecessary data\n",
    "    df = df.iloc[0:217, col_list]\n",
    "    # renaming columns\n",
    "    df.rename(columns= {df.columns[0]: \"Name\"}, inplace = True)\n",
    "    df = df.rename(columns = lambda x : (str(x)[:-9]))\n",
    "    df.rename(columns= {df.columns[0]: \"Country\", df.columns[1]: \"Country_Code\"}, inplace = True)\n",
    "    return df\n",
    "\n",
    "# list of required column indexes\n",
    "col_list = [2,3,4,5,10,11,12,13,14]\n",
    "# Calling clean_dataFrames function passing the dataframe as parameter\n",
    "df_population = clean_dataFrames(df_population, col_list)\n",
    "\n",
    "# replacing string \"..\" value in data\n",
    "df_population = df_population.replace(\"..\", 0)\n",
    "\n",
    "# Loop through the columns to covert values from string to \n",
    "for col in df_population:\n",
    "    # on columns other than Country and Country_Code_2\n",
    "    if col not in [\"Country_Code\", \"Country\"]:\n",
    "        # Converting string to number\n",
    "        df_population[col] = df_population[col].astype(float).apply(np.int64)\n",
    "\n",
    "\n",
    "df_population.tail()"
   ]
  },
  {
   "cell_type": "code",
   "execution_count": 27,
   "metadata": {
    "ExecuteTime": {
     "end_time": "2021-01-13T08:30:59.785944Z",
     "start_time": "2021-01-13T08:30:59.739973Z"
    }
   },
   "outputs": [
    {
     "output_type": "execute_result",
     "data": {
      "text/plain": [
       "         Country Country_Code        2050        2030        2020        2019  \\\n",
       "0          China          CHN  1402405170  1464340159  1439323776  1397715000   \n",
       "1          India          IND  1639176033  1503642322  1380004385  1366417754   \n",
       "2  United States          USA   379419102   349641876   331002651   328239523   \n",
       "3      Indonesia          IDN   330904664   299198430   273523615   270625568   \n",
       "4       Pakistan          PAK   338013196   262958794   220892340   216565318   \n",
       "\n",
       "         2018        2017        2016        2015        2000        1990  \\\n",
       "0  1392730000  1386395000  1378665000  1371220000  1262645000  1135185000   \n",
       "1  1352617328  1338658835  1324509589  1310152403  1056575549   873277798   \n",
       "2   326687501   324985539   322941311   320635163   282162411   249623000   \n",
       "3   267663435   264645886   261554226   258383256   211513823   181413402   \n",
       "4   212215030   207896686   203627284   199426964   142343578   107647921   \n",
       "\n",
       "         1980       1970     area   Density  GrowthRate  WorldPercentage  rank  \n",
       "0  1000089235  827601394  9706961  148.2775      1.0039           0.1847     1  \n",
       "1   698952844  555189792  3287590  419.7617      1.0099           0.1770     2  \n",
       "2   229476354  209513341  9372610   35.3160      1.0059           0.0425     3  \n",
       "3   147447836  114793178  1904569  143.6144      1.0107           0.0351     4  \n",
       "4    78054343   58142060   881912  250.4698      1.0200           0.0283     5  "
      ],
      "text/html": "<div>\n<style scoped>\n    .dataframe tbody tr th:only-of-type {\n        vertical-align: middle;\n    }\n\n    .dataframe tbody tr th {\n        vertical-align: top;\n    }\n\n    .dataframe thead th {\n        text-align: right;\n    }\n</style>\n<table border=\"1\" class=\"dataframe\">\n  <thead>\n    <tr style=\"text-align: right;\">\n      <th></th>\n      <th>Country</th>\n      <th>Country_Code</th>\n      <th>2050</th>\n      <th>2030</th>\n      <th>2020</th>\n      <th>2019</th>\n      <th>2018</th>\n      <th>2017</th>\n      <th>2016</th>\n      <th>2015</th>\n      <th>2000</th>\n      <th>1990</th>\n      <th>1980</th>\n      <th>1970</th>\n      <th>area</th>\n      <th>Density</th>\n      <th>GrowthRate</th>\n      <th>WorldPercentage</th>\n      <th>rank</th>\n    </tr>\n  </thead>\n  <tbody>\n    <tr>\n      <th>0</th>\n      <td>China</td>\n      <td>CHN</td>\n      <td>1402405170</td>\n      <td>1464340159</td>\n      <td>1439323776</td>\n      <td>1397715000</td>\n      <td>1392730000</td>\n      <td>1386395000</td>\n      <td>1378665000</td>\n      <td>1371220000</td>\n      <td>1262645000</td>\n      <td>1135185000</td>\n      <td>1000089235</td>\n      <td>827601394</td>\n      <td>9706961</td>\n      <td>148.2775</td>\n      <td>1.0039</td>\n      <td>0.1847</td>\n      <td>1</td>\n    </tr>\n    <tr>\n      <th>1</th>\n      <td>India</td>\n      <td>IND</td>\n      <td>1639176033</td>\n      <td>1503642322</td>\n      <td>1380004385</td>\n      <td>1366417754</td>\n      <td>1352617328</td>\n      <td>1338658835</td>\n      <td>1324509589</td>\n      <td>1310152403</td>\n      <td>1056575549</td>\n      <td>873277798</td>\n      <td>698952844</td>\n      <td>555189792</td>\n      <td>3287590</td>\n      <td>419.7617</td>\n      <td>1.0099</td>\n      <td>0.1770</td>\n      <td>2</td>\n    </tr>\n    <tr>\n      <th>2</th>\n      <td>United States</td>\n      <td>USA</td>\n      <td>379419102</td>\n      <td>349641876</td>\n      <td>331002651</td>\n      <td>328239523</td>\n      <td>326687501</td>\n      <td>324985539</td>\n      <td>322941311</td>\n      <td>320635163</td>\n      <td>282162411</td>\n      <td>249623000</td>\n      <td>229476354</td>\n      <td>209513341</td>\n      <td>9372610</td>\n      <td>35.3160</td>\n      <td>1.0059</td>\n      <td>0.0425</td>\n      <td>3</td>\n    </tr>\n    <tr>\n      <th>3</th>\n      <td>Indonesia</td>\n      <td>IDN</td>\n      <td>330904664</td>\n      <td>299198430</td>\n      <td>273523615</td>\n      <td>270625568</td>\n      <td>267663435</td>\n      <td>264645886</td>\n      <td>261554226</td>\n      <td>258383256</td>\n      <td>211513823</td>\n      <td>181413402</td>\n      <td>147447836</td>\n      <td>114793178</td>\n      <td>1904569</td>\n      <td>143.6144</td>\n      <td>1.0107</td>\n      <td>0.0351</td>\n      <td>4</td>\n    </tr>\n    <tr>\n      <th>4</th>\n      <td>Pakistan</td>\n      <td>PAK</td>\n      <td>338013196</td>\n      <td>262958794</td>\n      <td>220892340</td>\n      <td>216565318</td>\n      <td>212215030</td>\n      <td>207896686</td>\n      <td>203627284</td>\n      <td>199426964</td>\n      <td>142343578</td>\n      <td>107647921</td>\n      <td>78054343</td>\n      <td>58142060</td>\n      <td>881912</td>\n      <td>250.4698</td>\n      <td>1.0200</td>\n      <td>0.0283</td>\n      <td>5</td>\n    </tr>\n  </tbody>\n</table>\n</div>"
     },
     "metadata": {},
     "execution_count": 27
    }
   ],
   "source": [
    "# merging two dataframes for additional years data\n",
    "# merging df_population with df_countryCode\n",
    "df_population = df_countryCode.merge(df_population, on=\"Country_Code\", how=\"inner\")\n",
    "\n",
    "# merging df_population with df_countries\n",
    "df_countries_merged = df_countries.merge(df_population, on=\"Country_Code_2\", how=\"inner\")\n",
    "\n",
    "# removing duplicated Country column and Country_Code_2\n",
    "df_countries_merged = df_countries_merged.drop(['Country_y', 'Country_Code_2'], axis=1)\n",
    "# renaming columns\n",
    "df_countries_merged.rename(columns= {\"Country_x\": \"Country\"}, inplace = True)\n",
    "# reordering the columns\n",
    "df_countries_merged = df_countries_merged.iloc[:,[0,11,1,2,3,18,17,16,15,14,13,12,4,5,6,7,8,9,10]]\n",
    "# Replace null values with 0\n",
    "df_countries_merged.fillna(0,inplace = True)\n",
    "\n",
    "# Keeping a dataframe of Countries and country codes\n",
    "df_countries = df_countries_merged.iloc[:,[0,1]]\n",
    "\n",
    "df_countries_merged.head()"
   ]
  },
  {
   "source": [
    "#### World Population and Projections"
   ],
   "cell_type": "markdown",
   "metadata": {}
  },
  {
   "cell_type": "code",
   "execution_count": 28,
   "metadata": {},
   "outputs": [
    {
     "output_type": "execute_result",
     "data": {
      "text/plain": [
       "    year  Population  GrowthRate\n",
       "14  1950  2536431149      0.0000\n",
       "13  1955  2773019936      0.0180\n",
       "12  1960  3034949748      0.0182\n",
       "11  1965  3339583597      0.0193\n",
       "10  1970  3700437046      0.0207"
      ],
      "text/html": "<div>\n<style scoped>\n    .dataframe tbody tr th:only-of-type {\n        vertical-align: middle;\n    }\n\n    .dataframe tbody tr th {\n        vertical-align: top;\n    }\n\n    .dataframe thead th {\n        text-align: right;\n    }\n</style>\n<table border=\"1\" class=\"dataframe\">\n  <thead>\n    <tr style=\"text-align: right;\">\n      <th></th>\n      <th>year</th>\n      <th>Population</th>\n      <th>GrowthRate</th>\n    </tr>\n  </thead>\n  <tbody>\n    <tr>\n      <th>14</th>\n      <td>1950</td>\n      <td>2536431149</td>\n      <td>0.0000</td>\n    </tr>\n    <tr>\n      <th>13</th>\n      <td>1955</td>\n      <td>2773019936</td>\n      <td>0.0180</td>\n    </tr>\n    <tr>\n      <th>12</th>\n      <td>1960</td>\n      <td>3034949748</td>\n      <td>0.0182</td>\n    </tr>\n    <tr>\n      <th>11</th>\n      <td>1965</td>\n      <td>3339583597</td>\n      <td>0.0193</td>\n    </tr>\n    <tr>\n      <th>10</th>\n      <td>1970</td>\n      <td>3700437046</td>\n      <td>0.0207</td>\n    </tr>\n  </tbody>\n</table>\n</div>"
     },
     "metadata": {},
     "execution_count": 28
    }
   ],
   "source": [
    "# read World population data from csv(source:https://worldpopulationreview.com) into dataframe\n",
    "df_worldPop = pd.read_csv('static/data/worldPopulation.csv')\n",
    "# Sort in ascending order\n",
    "df_worldPop.sort_values(by=[\"year\"], inplace=True)\n",
    "# Projections\n",
    "df_worldPojection = pd.read_csv('static/data/worldProjections.csv')\n",
    "\n",
    "# Concatenate both actuals and projections dataframe\n",
    "df_worldPop = pd.concat([df_worldPop,df_worldPojection])\n",
    "# rename the columns\n",
    "df_worldPop.rename(columns={'value':'Population'},inplace=True)\n",
    "# Replace null values with 0\n",
    "df_worldPop.fillna(0,inplace = True)\n",
    "\n",
    "df_worldPop.head()"
   ]
  },
  {
   "source": [
    "#### Population Density"
   ],
   "cell_type": "markdown",
   "metadata": {}
  },
  {
   "cell_type": "code",
   "execution_count": 34,
   "metadata": {},
   "outputs": [
    {
     "output_type": "execute_result",
     "data": {
      "text/plain": [
       "         Country Country_Code        1961        1970        1980        1990  \\\n",
       "0          China          CHN   70.335792   87.163742  104.517349  120.915506   \n",
       "1          India          IND  154.595625  186.732026  235.085159  293.717454   \n",
       "2  United States          USA   20.055880   22.388131   24.809039   27.254514   \n",
       "3      Indonesia          IDN   49.734978   63.366681   81.392293  100.141536   \n",
       "4       Pakistan          PAK   59.756682   75.422971  101.253558  139.642903   \n",
       "\n",
       "         2000        2010        2015        2016        2017        2018  \n",
       "0  134.492481  142.487740  146.057642  146.850678  147.674051  148.348833  \n",
       "1  355.367652  415.136998  440.655459  445.484341  450.243286  454.938073  \n",
       "2   30.797301   33.815181   35.051978   35.304087   35.527563   35.713622  \n",
       "3  116.757190  133.494270  142.629463  144.379862  146.086481  147.752190  \n",
       "4  184.650760  232.753011  258.700400  264.149134  269.687482  275.289319  "
      ],
      "text/html": "<div>\n<style scoped>\n    .dataframe tbody tr th:only-of-type {\n        vertical-align: middle;\n    }\n\n    .dataframe tbody tr th {\n        vertical-align: top;\n    }\n\n    .dataframe thead th {\n        text-align: right;\n    }\n</style>\n<table border=\"1\" class=\"dataframe\">\n  <thead>\n    <tr style=\"text-align: right;\">\n      <th></th>\n      <th>Country</th>\n      <th>Country_Code</th>\n      <th>1961</th>\n      <th>1970</th>\n      <th>1980</th>\n      <th>1990</th>\n      <th>2000</th>\n      <th>2010</th>\n      <th>2015</th>\n      <th>2016</th>\n      <th>2017</th>\n      <th>2018</th>\n    </tr>\n  </thead>\n  <tbody>\n    <tr>\n      <th>0</th>\n      <td>China</td>\n      <td>CHN</td>\n      <td>70.335792</td>\n      <td>87.163742</td>\n      <td>104.517349</td>\n      <td>120.915506</td>\n      <td>134.492481</td>\n      <td>142.487740</td>\n      <td>146.057642</td>\n      <td>146.850678</td>\n      <td>147.674051</td>\n      <td>148.348833</td>\n    </tr>\n    <tr>\n      <th>1</th>\n      <td>India</td>\n      <td>IND</td>\n      <td>154.595625</td>\n      <td>186.732026</td>\n      <td>235.085159</td>\n      <td>293.717454</td>\n      <td>355.367652</td>\n      <td>415.136998</td>\n      <td>440.655459</td>\n      <td>445.484341</td>\n      <td>450.243286</td>\n      <td>454.938073</td>\n    </tr>\n    <tr>\n      <th>2</th>\n      <td>United States</td>\n      <td>USA</td>\n      <td>20.055880</td>\n      <td>22.388131</td>\n      <td>24.809039</td>\n      <td>27.254514</td>\n      <td>30.797301</td>\n      <td>33.815181</td>\n      <td>35.051978</td>\n      <td>35.304087</td>\n      <td>35.527563</td>\n      <td>35.713622</td>\n    </tr>\n    <tr>\n      <th>3</th>\n      <td>Indonesia</td>\n      <td>IDN</td>\n      <td>49.734978</td>\n      <td>63.366681</td>\n      <td>81.392293</td>\n      <td>100.141536</td>\n      <td>116.757190</td>\n      <td>133.494270</td>\n      <td>142.629463</td>\n      <td>144.379862</td>\n      <td>146.086481</td>\n      <td>147.752190</td>\n    </tr>\n    <tr>\n      <th>4</th>\n      <td>Pakistan</td>\n      <td>PAK</td>\n      <td>59.756682</td>\n      <td>75.422971</td>\n      <td>101.253558</td>\n      <td>139.642903</td>\n      <td>184.650760</td>\n      <td>232.753011</td>\n      <td>258.700400</td>\n      <td>264.149134</td>\n      <td>269.687482</td>\n      <td>275.289319</td>\n    </tr>\n  </tbody>\n</table>\n</div>"
     },
     "metadata": {},
     "execution_count": 34
    }
   ],
   "source": [
    "# Defining a function to clean similar dataframes\n",
    "def cleanData(df, col_list, subset):\n",
    "    #  eliminating unnecessary data\n",
    "    df = df.iloc[:, col_list]\n",
    "    # renaming columns\n",
    "    df.rename(columns= {\"Country Name\":\"Country\", \"Country Code\":\"Country_Code\"}, inplace = True)\n",
    "    # merging with countries_df to keep the Countries List same\n",
    "    df = df_countries.merge(df, on=[\"Country_Code\"], how=\"inner\")\n",
    "    \n",
    "    df = df.drop(['Country_y'], axis=1)\n",
    "    df.rename(columns= {\"Country_x\":\"Country\"}, inplace = True)\n",
    "    # removing countries with NaN value in 2017\n",
    "    df = df.dropna(axis=0, subset=subset)\n",
    "    # Replace null values with 0\n",
    "    df.fillna(0,inplace = True)\n",
    "    return df\n",
    "\n",
    "\n",
    "# read World population Density data from https://datacatalog.worldbank.org into dataframe\n",
    "df_Density = pd.read_csv('static/data/populationDensity.csv')\n",
    "#  making list of necessary data\n",
    "col_list = [0,1,5,14,24,34,44,54,59,60,61,62]\n",
    "# Calling cleanData function with dataframe and column lists as parameters\n",
    "df_Density =cleanData(df_Density, col_list, ['2017'])\n",
    "\n",
    "df_Density.head()"
   ]
  },
  {
   "source": [
    "#### Birth Rate, Mortality Rate and Sex Ratio"
   ],
   "cell_type": "markdown",
   "metadata": {}
  },
  {
   "cell_type": "code",
   "execution_count": 30,
   "metadata": {},
   "outputs": [
    {
     "output_type": "execute_result",
     "data": {
      "text/plain": [
       "         Country Country_Code    1960    1970    1980    1990    2000    2010  \\\n",
       "0          China          CHN  20.860  33.430  18.210  21.060  14.030  11.900   \n",
       "1          India          IND  41.995  39.108  36.167  31.517  26.401  21.114   \n",
       "2  United States          USA  23.700  18.400  15.900  16.700  14.400  13.000   \n",
       "3      Indonesia          IDN  44.549  39.973  33.425  25.813  21.773  20.795   \n",
       "4       Pakistan          PAK  44.111  43.130  42.260  41.222  34.703  30.082   \n",
       "\n",
       "     2015    2016    2017    2018  \n",
       "0  12.070  12.950  12.430  10.900  \n",
       "1  18.625  18.332  18.083  17.857  \n",
       "2  12.400  12.200  11.800  11.600  \n",
       "3  19.165  18.790  18.422  18.072  \n",
       "4  29.124  28.888  28.599  28.250  "
      ],
      "text/html": "<div>\n<style scoped>\n    .dataframe tbody tr th:only-of-type {\n        vertical-align: middle;\n    }\n\n    .dataframe tbody tr th {\n        vertical-align: top;\n    }\n\n    .dataframe thead th {\n        text-align: right;\n    }\n</style>\n<table border=\"1\" class=\"dataframe\">\n  <thead>\n    <tr style=\"text-align: right;\">\n      <th></th>\n      <th>Country</th>\n      <th>Country_Code</th>\n      <th>1960</th>\n      <th>1970</th>\n      <th>1980</th>\n      <th>1990</th>\n      <th>2000</th>\n      <th>2010</th>\n      <th>2015</th>\n      <th>2016</th>\n      <th>2017</th>\n      <th>2018</th>\n    </tr>\n  </thead>\n  <tbody>\n    <tr>\n      <th>0</th>\n      <td>China</td>\n      <td>CHN</td>\n      <td>20.860</td>\n      <td>33.430</td>\n      <td>18.210</td>\n      <td>21.060</td>\n      <td>14.030</td>\n      <td>11.900</td>\n      <td>12.070</td>\n      <td>12.950</td>\n      <td>12.430</td>\n      <td>10.900</td>\n    </tr>\n    <tr>\n      <th>1</th>\n      <td>India</td>\n      <td>IND</td>\n      <td>41.995</td>\n      <td>39.108</td>\n      <td>36.167</td>\n      <td>31.517</td>\n      <td>26.401</td>\n      <td>21.114</td>\n      <td>18.625</td>\n      <td>18.332</td>\n      <td>18.083</td>\n      <td>17.857</td>\n    </tr>\n    <tr>\n      <th>2</th>\n      <td>United States</td>\n      <td>USA</td>\n      <td>23.700</td>\n      <td>18.400</td>\n      <td>15.900</td>\n      <td>16.700</td>\n      <td>14.400</td>\n      <td>13.000</td>\n      <td>12.400</td>\n      <td>12.200</td>\n      <td>11.800</td>\n      <td>11.600</td>\n    </tr>\n    <tr>\n      <th>3</th>\n      <td>Indonesia</td>\n      <td>IDN</td>\n      <td>44.549</td>\n      <td>39.973</td>\n      <td>33.425</td>\n      <td>25.813</td>\n      <td>21.773</td>\n      <td>20.795</td>\n      <td>19.165</td>\n      <td>18.790</td>\n      <td>18.422</td>\n      <td>18.072</td>\n    </tr>\n    <tr>\n      <th>4</th>\n      <td>Pakistan</td>\n      <td>PAK</td>\n      <td>44.111</td>\n      <td>43.130</td>\n      <td>42.260</td>\n      <td>41.222</td>\n      <td>34.703</td>\n      <td>30.082</td>\n      <td>29.124</td>\n      <td>28.888</td>\n      <td>28.599</td>\n      <td>28.250</td>\n    </tr>\n  </tbody>\n</table>\n</div>"
     },
     "metadata": {},
     "execution_count": 30
    }
   ],
   "source": [
    "# Cleaning csv Birth rate data from https://datacatalog.worldbank.org\n",
    "# reading csv's into dataframes\n",
    "df_birth = pd.read_csv('static/data/birthRate.csv')\n",
    "\n",
    "#  making list of necessary data\n",
    "col_list = [0,1,4,14,24,34,44,54,59,60,61,62]\n",
    "# Calling cleanData function with dataframe and column lists as parameters\n",
    "df_birth =cleanData(df_birth, col_list, ['2018'])\n",
    "\n",
    "\n",
    "df_birth.head()"
   ]
  },
  {
   "source": [
    "#### Mortality Rate"
   ],
   "cell_type": "markdown",
   "metadata": {}
  },
  {
   "cell_type": "code",
   "execution_count": 31,
   "metadata": {},
   "outputs": [
    {
     "output_type": "execute_result",
     "data": {
      "text/plain": [
       "         Country Country_Code    1960    1970    1980    1990   2000   2010  \\\n",
       "0          China          CHN  25.430   7.600   6.340   6.670  6.450  7.110   \n",
       "1          India          IND  22.184  17.187  13.290  10.864  8.692  7.492   \n",
       "2  United States          USA   9.500   9.500   8.800   8.600  8.500  7.995   \n",
       "3      Indonesia          IDN  19.177  14.308  10.592   8.339  7.475  6.653   \n",
       "4       Pakistan          PAK  20.675  15.294  12.670  10.828  8.862  7.568   \n",
       "\n",
       "    2015   2016   2017   2018  \n",
       "0  7.110  7.090  7.110  7.100  \n",
       "1  7.194  7.195  7.210  7.234  \n",
       "2  8.440  8.493  8.638  8.600  \n",
       "3  6.419  6.418  6.433  6.465  \n",
       "4  7.107  7.048  6.994  6.942  "
      ],
      "text/html": "<div>\n<style scoped>\n    .dataframe tbody tr th:only-of-type {\n        vertical-align: middle;\n    }\n\n    .dataframe tbody tr th {\n        vertical-align: top;\n    }\n\n    .dataframe thead th {\n        text-align: right;\n    }\n</style>\n<table border=\"1\" class=\"dataframe\">\n  <thead>\n    <tr style=\"text-align: right;\">\n      <th></th>\n      <th>Country</th>\n      <th>Country_Code</th>\n      <th>1960</th>\n      <th>1970</th>\n      <th>1980</th>\n      <th>1990</th>\n      <th>2000</th>\n      <th>2010</th>\n      <th>2015</th>\n      <th>2016</th>\n      <th>2017</th>\n      <th>2018</th>\n    </tr>\n  </thead>\n  <tbody>\n    <tr>\n      <th>0</th>\n      <td>China</td>\n      <td>CHN</td>\n      <td>25.430</td>\n      <td>7.600</td>\n      <td>6.340</td>\n      <td>6.670</td>\n      <td>6.450</td>\n      <td>7.110</td>\n      <td>7.110</td>\n      <td>7.090</td>\n      <td>7.110</td>\n      <td>7.100</td>\n    </tr>\n    <tr>\n      <th>1</th>\n      <td>India</td>\n      <td>IND</td>\n      <td>22.184</td>\n      <td>17.187</td>\n      <td>13.290</td>\n      <td>10.864</td>\n      <td>8.692</td>\n      <td>7.492</td>\n      <td>7.194</td>\n      <td>7.195</td>\n      <td>7.210</td>\n      <td>7.234</td>\n    </tr>\n    <tr>\n      <th>2</th>\n      <td>United States</td>\n      <td>USA</td>\n      <td>9.500</td>\n      <td>9.500</td>\n      <td>8.800</td>\n      <td>8.600</td>\n      <td>8.500</td>\n      <td>7.995</td>\n      <td>8.440</td>\n      <td>8.493</td>\n      <td>8.638</td>\n      <td>8.600</td>\n    </tr>\n    <tr>\n      <th>3</th>\n      <td>Indonesia</td>\n      <td>IDN</td>\n      <td>19.177</td>\n      <td>14.308</td>\n      <td>10.592</td>\n      <td>8.339</td>\n      <td>7.475</td>\n      <td>6.653</td>\n      <td>6.419</td>\n      <td>6.418</td>\n      <td>6.433</td>\n      <td>6.465</td>\n    </tr>\n    <tr>\n      <th>4</th>\n      <td>Pakistan</td>\n      <td>PAK</td>\n      <td>20.675</td>\n      <td>15.294</td>\n      <td>12.670</td>\n      <td>10.828</td>\n      <td>8.862</td>\n      <td>7.568</td>\n      <td>7.107</td>\n      <td>7.048</td>\n      <td>6.994</td>\n      <td>6.942</td>\n    </tr>\n  </tbody>\n</table>\n</div>"
     },
     "metadata": {},
     "execution_count": 31
    }
   ],
   "source": [
    "# Cleaning csv Death rate data from https://datacatalog.worldbank.org\n",
    "# reading csv's into dataframes\n",
    "df_death = pd.read_csv('static/data/deathRate.csv')\n",
    "# Calling cleanData function with dataframe and column lists as parameters\n",
    "df_death = cleanData(df_death, col_list, ['2018'])\n",
    "\n",
    "df_death.head()"
   ]
  },
  {
   "source": [
    "#### Sex Ratio"
   ],
   "cell_type": "markdown",
   "metadata": {}
  },
  {
   "cell_type": "code",
   "execution_count": 32,
   "metadata": {},
   "outputs": [
    {
     "output_type": "execute_result",
     "data": {
      "text/plain": [
       "         Country Country_Code   1962   1972   1982   1992   2002   2010  \\\n",
       "0          China          CHN  1.070  1.070  1.070  1.120  1.160  1.158   \n",
       "1          India          IND  1.054  1.057  1.084  1.106  1.112  1.100   \n",
       "2  United States          USA  1.050  1.053  1.051  1.049  1.048  1.048   \n",
       "3      Indonesia          IDN  1.050  1.050  1.050  1.050  1.050  1.050   \n",
       "4       Pakistan          PAK  1.064  1.064  1.064  1.064  1.096  1.087   \n",
       "\n",
       "    2015   2016   2017   2018  \n",
       "0  1.138  1.134  1.130  1.126  \n",
       "1  1.099  1.099  1.099  1.100  \n",
       "2  1.047  1.047  1.047  1.047  \n",
       "3  1.050  1.050  1.050  1.050  \n",
       "4  1.087  1.087  1.087  1.087  "
      ],
      "text/html": "<div>\n<style scoped>\n    .dataframe tbody tr th:only-of-type {\n        vertical-align: middle;\n    }\n\n    .dataframe tbody tr th {\n        vertical-align: top;\n    }\n\n    .dataframe thead th {\n        text-align: right;\n    }\n</style>\n<table border=\"1\" class=\"dataframe\">\n  <thead>\n    <tr style=\"text-align: right;\">\n      <th></th>\n      <th>Country</th>\n      <th>Country_Code</th>\n      <th>1962</th>\n      <th>1972</th>\n      <th>1982</th>\n      <th>1992</th>\n      <th>2002</th>\n      <th>2010</th>\n      <th>2015</th>\n      <th>2016</th>\n      <th>2017</th>\n      <th>2018</th>\n    </tr>\n  </thead>\n  <tbody>\n    <tr>\n      <th>0</th>\n      <td>China</td>\n      <td>CHN</td>\n      <td>1.070</td>\n      <td>1.070</td>\n      <td>1.070</td>\n      <td>1.120</td>\n      <td>1.160</td>\n      <td>1.158</td>\n      <td>1.138</td>\n      <td>1.134</td>\n      <td>1.130</td>\n      <td>1.126</td>\n    </tr>\n    <tr>\n      <th>1</th>\n      <td>India</td>\n      <td>IND</td>\n      <td>1.054</td>\n      <td>1.057</td>\n      <td>1.084</td>\n      <td>1.106</td>\n      <td>1.112</td>\n      <td>1.100</td>\n      <td>1.099</td>\n      <td>1.099</td>\n      <td>1.099</td>\n      <td>1.100</td>\n    </tr>\n    <tr>\n      <th>2</th>\n      <td>United States</td>\n      <td>USA</td>\n      <td>1.050</td>\n      <td>1.053</td>\n      <td>1.051</td>\n      <td>1.049</td>\n      <td>1.048</td>\n      <td>1.048</td>\n      <td>1.047</td>\n      <td>1.047</td>\n      <td>1.047</td>\n      <td>1.047</td>\n    </tr>\n    <tr>\n      <th>3</th>\n      <td>Indonesia</td>\n      <td>IDN</td>\n      <td>1.050</td>\n      <td>1.050</td>\n      <td>1.050</td>\n      <td>1.050</td>\n      <td>1.050</td>\n      <td>1.050</td>\n      <td>1.050</td>\n      <td>1.050</td>\n      <td>1.050</td>\n      <td>1.050</td>\n    </tr>\n    <tr>\n      <th>4</th>\n      <td>Pakistan</td>\n      <td>PAK</td>\n      <td>1.064</td>\n      <td>1.064</td>\n      <td>1.064</td>\n      <td>1.064</td>\n      <td>1.096</td>\n      <td>1.087</td>\n      <td>1.087</td>\n      <td>1.087</td>\n      <td>1.087</td>\n      <td>1.087</td>\n    </tr>\n  </tbody>\n</table>\n</div>"
     },
     "metadata": {},
     "execution_count": 32
    }
   ],
   "source": [
    "# Cleaning csv sex Ratio data from https://datacatalog.worldbank.org\n",
    "# reading csv's into dataframes\n",
    "df_sexRatio = pd.read_csv('static/data/sexRatio.csv')\n",
    "#  making list of necessary data\n",
    "col_list = [0,1,6,16,26,36,46,54,59,60,61,62]\n",
    "# Calling cleanData function with dataframe and column lists as parameters\n",
    "df_sexRatio = cleanData(df_sexRatio, col_list, ['2018'])\n",
    "\n",
    "df_sexRatio.head()"
   ]
  },
  {
   "cell_type": "markdown",
   "metadata": {},
   "source": [
    "### Load Data into MongoDB"
   ]
  },
  {
   "cell_type": "code",
   "execution_count": 33,
   "metadata": {
    "ExecuteTime": {
     "end_time": "2021-01-13T08:31:00.052209Z",
     "start_time": "2021-01-13T08:30:59.914864Z"
    },
    "tags": []
   },
   "outputs": [
    {
     "output_type": "stream",
     "name": "stdout",
     "text": [
      "['sexRatio', 'populationDensity', 'citiesPopulation', 'worldPopulation', 'birthRate', 'deathRate', 'countriesPopulation']\n"
     ]
    }
   ],
   "source": [
    "# Loading Data into MongoDB\n",
    "conn = 'mongodb://localhost:27017'\n",
    "client = pymongo.MongoClient(conn)\n",
    "\n",
    "db_name = \"populationDB\"\n",
    "# # Drop database if exists\n",
    "if bool(db_name in client.list_database_names()):\n",
    "    client.drop_database(db_name)\n",
    "\n",
    "# Creating Database and collection in mongodb\n",
    "db = client[db_name]\n",
    "countriesPop = db[\"countriesPopulation\"]\n",
    "citiesPop = db[\"citiesPopulation\"]\n",
    "worldPop = db[\"worldPopulation\"]\n",
    "popDensity = db[\"populationDensity\"]\n",
    "birRate = db[\"birthRate\"]\n",
    "dthRate = db[\"deathRate\"]\n",
    "sexRate = db[\"sexRatio\"]\n",
    "\n",
    "\n",
    "# Function to insert Dataframes into mongodb collections\n",
    "def insertToDB(df, collection):\n",
    "    data_dict = df.to_dict(\"records\") # Convert to dictionary\n",
    "    # removing index from data\n",
    "    data_dict = [{k: v for k, v in d.items() if k != 'index'} for d in data_dict]\n",
    "    collection.insert_one({\"data\":data_dict}) # Insert dict to collection\n",
    "\n",
    "\n",
    "# Calling function to insert each dataframes into mongoDB collections\n",
    "insertToDB(df_countries_merged, countriesPop)\n",
    "insertToDB(df_cityPop, citiesPop)\n",
    "insertToDB(df_worldPop, worldPop)\n",
    "insertToDB(df_Density, popDensity)\n",
    "insertToDB(df_birth, birRate)\n",
    "insertToDB(df_death, dthRate)\n",
    "insertToDB(df_sexRatio, sexRate)\n",
    "\n",
    "\n",
    "\n",
    "print(db.list_collection_names())"
   ]
  },
  {
   "cell_type": "code",
   "execution_count": null,
   "metadata": {},
   "outputs": [],
   "source": []
  }
 ],
 "metadata": {
  "hide_input": false,
  "kernelspec": {
   "display_name": "Python 3",
   "language": "python",
   "name": "python3"
  },
  "toc": {
   "base_numbering": 1,
   "nav_menu": {},
   "number_sections": true,
   "sideBar": true,
   "skip_h1_title": false,
   "title_cell": "Table of Contents",
   "title_sidebar": "Contents",
   "toc_cell": false,
   "toc_position": {},
   "toc_section_display": true,
   "toc_window_display": false
  },
  "varInspector": {
   "cols": {
    "lenName": 16,
    "lenType": 16,
    "lenVar": 40
   },
   "kernels_config": {
    "python": {
     "delete_cmd_postfix": "",
     "delete_cmd_prefix": "del ",
     "library": "var_list.py",
     "varRefreshCmd": "print(var_dic_list())"
    },
    "r": {
     "delete_cmd_postfix": ") ",
     "delete_cmd_prefix": "rm(",
     "library": "var_list.r",
     "varRefreshCmd": "cat(var_dic_list()) "
    }
   },
   "types_to_exclude": [
    "module",
    "function",
    "builtin_function_or_method",
    "instance",
    "_Feature"
   ],
   "window_display": false
  }
 },
 "nbformat": 4,
 "nbformat_minor": 4
}